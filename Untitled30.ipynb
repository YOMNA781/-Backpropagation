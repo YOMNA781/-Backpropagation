{
 "cells": [
  {
   "cell_type": "code",
   "execution_count": 1,
   "id": "a7938065",
   "metadata": {},
   "outputs": [],
   "source": [
    "import numpy as np\n",
    "\n",
    "\n",
    "def sigmoid(x):\n",
    "    return 1 / (1 + np.exp(-x))\n",
    "\n",
    "def sigmoid_derivative(x):\n",
    "    return x * (1 - x)\n"
   ]
  },
  {
   "cell_type": "code",
   "execution_count": 2,
   "id": "303dfe37",
   "metadata": {},
   "outputs": [],
   "source": [
    "i1, i2 = 0.05, 0.10\n",
    "target_o1, target_o2 = 0.01, 0.99\n",
    "w1, w2, w3, w4 = 0.15, 0.20, 0.25, 0.30\n",
    "w5, w6, w7, w8 = 0.40, 0.45, 0.50, 0.55\n",
    "b1, b2 = 0.35, 0.60\n",
    "eta = 0.5\n",
    "\n",
    "\n",
    "net_h1 = (i1 * w1) + (i2 * w3) + b1\n",
    "net_h2 = (i1 * w2) + (i2 * w4) + b1\n",
    "\n",
    "h1 = sigmoid(net_h1)  \n",
    "h2 = sigmoid(net_h2)  \n",
    "\n",
    "net_o1 = (h1 * w5) + (h2 * w7) + b2\n",
    "net_o2 = (h1 * w6) + (h2 * w8) + b2\n",
    "\n",
    "o1 = sigmoid(net_o1)  \n",
    "o2 = sigmoid(net_o2)  \n"
   ]
  },
  {
   "cell_type": "code",
   "execution_count": 3,
   "id": "c761d03d",
   "metadata": {},
   "outputs": [],
   "source": [
    "#  Backpropagation \n",
    "\n",
    "delta_o1 = (o1 - target_o1) * sigmoid_derivative(o1) \n",
    "delta_o2 = (o2 - target_o2) * sigmoid_derivative(o2)  \n",
    "\n",
    "delta_h1 = (delta_o1 * w5 + delta_o2 * w6) * sigmoid_derivative(h1)  \n",
    "delta_h2 = (delta_o1 * w7 + delta_o2 * w8) * sigmoid_derivative(h2)  "
   ]
  },
  {
   "cell_type": "code",
   "execution_count": 4,
   "id": "7726578e",
   "metadata": {},
   "outputs": [],
   "source": [
    "#  Update Weights \n",
    "\n",
    "w5 = w5 - eta * (delta_o1 * h1)      \n",
    "w6 = w6 - eta * (delta_o2 * h1)      \n",
    "w7 = w7 - eta * (delta_o1 * h2)      \n",
    "w8 = w8 - eta * (delta_o2 * h2)      "
   ]
  },
  {
   "cell_type": "code",
   "execution_count": 5,
   "id": "e847c512",
   "metadata": {},
   "outputs": [],
   "source": [
    "w1 = w1 - eta * (delta_h1 * i1)      \n",
    "w2 = w2 - eta * (delta_h1 * i2)\n",
    "w3 = w3 - eta * (delta_h2 * i1)      \n",
    "w4 = w4 - eta * (delta_h2 * i2)      "
   ]
  },
  {
   "cell_type": "code",
   "execution_count": 6,
   "id": "96414375",
   "metadata": {},
   "outputs": [],
   "source": [
    "b1 = b1 - eta * delta_h1           \n",
    "b2 = b2 - eta * delta_o1           "
   ]
  },
  {
   "cell_type": "code",
   "execution_count": 9,
   "id": "1b2eb299",
   "metadata": {},
   "outputs": [
    {
     "name": "stdout",
     "output_type": "stream",
     "text": [
      "Updated Weights (Input - Hidden):\n",
      "w1 = 0.14978, w2 = 0.19955, w3 = 0.24972, w4 = 0.29944\n",
      "Updated Weights (Hidden - Output):\n",
      "w5 = 0.35915, w6 = 0.46178, w7 = 0.45903, w8 = 0.56182\n",
      "Updated Biases:\n",
      "b1 = 0.34552, b2 = 0.53129\n"
     ]
    }
   ],
   "source": [
    "print(\"Updated Weights (Input - Hidden):\")\n",
    "print(f\"w1 = {w1:.5f}, w2 = {w2:.5f}, w3 = {w3:.5f}, w4 = {w4:.5f}\")\n",
    "print(\"Updated Weights (Hidden - Output):\")\n",
    "print(f\"w5 = {w5:.5f}, w6 = {w6:.5f}, w7 = {w7:.5f}, w8 = {w8:.5f}\")\n",
    "print(\"Updated Biases:\")\n",
    "print(f\"b1 = {b1:.5f}, b2 = {b2:.5f}\")"
   ]
  },
  {
   "cell_type": "code",
   "execution_count": null,
   "id": "93fe02f8",
   "metadata": {},
   "outputs": [],
   "source": []
  }
 ],
 "metadata": {
  "kernelspec": {
   "display_name": "Python 3 (ipykernel)",
   "language": "python",
   "name": "python3"
  },
  "language_info": {
   "codemirror_mode": {
    "name": "ipython",
    "version": 3
   },
   "file_extension": ".py",
   "mimetype": "text/x-python",
   "name": "python",
   "nbconvert_exporter": "python",
   "pygments_lexer": "ipython3",
   "version": "3.9.13"
  }
 },
 "nbformat": 4,
 "nbformat_minor": 5
}
